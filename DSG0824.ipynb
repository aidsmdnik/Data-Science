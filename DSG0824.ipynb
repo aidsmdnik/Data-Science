{
 "cells": [
  {
   "cell_type": "code",
   "execution_count": 1,
   "id": "ad1a3178-defb-4773-ac39-82946420597e",
   "metadata": {},
   "outputs": [
    {
     "name": "stdout",
     "output_type": "stream",
     "text": [
      "Hello Data Science World!\n"
     ]
    }
   ],
   "source": [
    "print(\"Hello Data Science World!\")"
   ]
  },
  {
   "cell_type": "code",
   "execution_count": 2,
   "id": "dada39d9-ee85-49fa-aab2-3f8378fae7e5",
   "metadata": {},
   "outputs": [
    {
     "name": "stdout",
     "output_type": "stream",
     "text": [
      "Dr.Mangesh Nikose\n"
     ]
    }
   ],
   "source": [
    "print(\"Dr.Mangesh Nikose\")"
   ]
  },
  {
   "cell_type": "code",
   "execution_count": 3,
   "id": "82d3a265-06ab-4509-80cc-086b1d7f5c49",
   "metadata": {},
   "outputs": [
    {
     "data": {
      "text/plain": [
       "16"
      ]
     },
     "execution_count": 3,
     "metadata": {},
     "output_type": "execute_result"
    }
   ],
   "source": [
    "9+7"
   ]
  },
  {
   "cell_type": "code",
   "execution_count": 5,
   "id": "d2f021a8-aa4f-4d08-8355-8b5e5e15d2db",
   "metadata": {},
   "outputs": [
    {
     "data": {
      "text/plain": [
       "600"
      ]
     },
     "execution_count": 5,
     "metadata": {},
     "output_type": "execute_result"
    }
   ],
   "source": [
    "24*25"
   ]
  },
  {
   "cell_type": "code",
   "execution_count": null,
   "id": "33cc39f4-6274-4002-bc89-1c442cea691c",
   "metadata": {},
   "outputs": [],
   "source": []
  },
  {
   "cell_type": "code",
   "execution_count": null,
   "id": "d78b8101-2bcd-4bc0-a8f4-8a6d6a28549d",
   "metadata": {},
   "outputs": [],
   "source": [
    "Python is easy Laungauge and used widely in dada science.\n",
    "Python it is easy language and  case sensitive language."
   ]
  }
 ],
 "metadata": {
  "kernelspec": {
   "display_name": "Python 3 (ipykernel)",
   "language": "python",
   "name": "python3"
  },
  "language_info": {
   "codemirror_mode": {
    "name": "ipython",
    "version": 3
   },
   "file_extension": ".py",
   "mimetype": "text/x-python",
   "name": "python",
   "nbconvert_exporter": "python",
   "pygments_lexer": "ipython3",
   "version": "3.12.4"
  }
 },
 "nbformat": 4,
 "nbformat_minor": 5
}
